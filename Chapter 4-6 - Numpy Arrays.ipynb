{
 "cells": [
  {
   "cell_type": "code",
   "execution_count": 2,
   "id": "456d6db8",
   "metadata": {},
   "outputs": [
    {
     "name": "stdout",
     "output_type": "stream",
     "text": [
      "[1 2 3]\n",
      "(3,)\n",
      "int32\n",
      "<class 'numpy.ndarray'>\n"
     ]
    }
   ],
   "source": [
    "from numpy import array\n",
    "\n",
    "#ndarray is a N dimensional array\n",
    "\n",
    "a = [1, 2, 3]\n",
    "a = array(a)\n",
    "print(a)\n",
    "print(a.shape)\n",
    "print(a.dtype)\n",
    "print(type(a))"
   ]
  },
  {
   "cell_type": "code",
   "execution_count": 2,
   "id": "1d518b28",
   "metadata": {},
   "outputs": [
    {
     "name": "stdout",
     "output_type": "stream",
     "text": [
      "[[ 1.48749568e-272  2.91725233e+236  7.94797035e-304]\n",
      " [-3.10564605e+232  2.15425082e+236  2.15482440e+236]\n",
      " [ 7.94797046e-304 -3.10564605e+232 -4.64334410e+083]]\n"
     ]
    }
   ],
   "source": [
    "from numpy import empty\n",
    "\n",
    "a = empty([3,3])\n",
    "print(a)"
   ]
  },
  {
   "cell_type": "code",
   "execution_count": 4,
   "id": "05225ccf",
   "metadata": {},
   "outputs": [
    {
     "name": "stdout",
     "output_type": "stream",
     "text": [
      "[[0. 0. 0.]\n",
      " [0. 0. 0.]\n",
      " [0. 0. 0.]]\n",
      "[[1. 1. 1.]\n",
      " [1. 1. 1.]\n",
      " [1. 1. 1.]]\n"
     ]
    }
   ],
   "source": [
    "from numpy import zeros\n",
    "from numpy import ones\n",
    "\n",
    "a = zeros([3,3])\n",
    "print(a)\n",
    "\n",
    "a = ones([3,3])\n",
    "print(a)"
   ]
  },
  {
   "cell_type": "code",
   "execution_count": 12,
   "id": "7a48b094",
   "metadata": {},
   "outputs": [
    {
     "name": "stdout",
     "output_type": "stream",
     "text": [
      "[[1 2 3]\n",
      " [4 5 6]]\n",
      "(2, 3)\n",
      "[1 2 3 4 5 6]\n",
      "(6,)\n"
     ]
    }
   ],
   "source": [
    "from numpy import vstack\n",
    "from numpy import hstack\n",
    "\n",
    "a1 = array([1,2,3])\n",
    "a2 = array([4,5,6])\n",
    "\n",
    "a3 = vstack((a1,a2))\n",
    "print(a3)\n",
    "print(a3.shape)\n",
    "\n",
    "a3 = hstack((a1,a2))\n",
    "print(a3)\n",
    "print(a3.shape)\n",
    "\n",
    "#Notice how shape says 6, for the horizontal array, which is 6 columns 1 row. But 2,3 for the 2 row 3 column array"
   ]
  },
  {
   "cell_type": "code",
   "execution_count": 19,
   "id": "4ed6ea0e",
   "metadata": {},
   "outputs": [
    {
     "name": "stdout",
     "output_type": "stream",
     "text": [
      "[[1 2 3]\n",
      " [1 2 3]]\n",
      "[1 2 3]\n",
      "[1 2 3]\n",
      "3\n",
      "[1 1]\n"
     ]
    }
   ],
   "source": [
    "a = [[1,2,3],[1,2,3]]\n",
    "a = array(a)\n",
    "print(a)\n",
    "print(a[0])\n",
    "print(a[-1])\n",
    "print(a[-1,2])\n",
    "print(a[0:2,0])"
   ]
  },
  {
   "cell_type": "code",
   "execution_count": 21,
   "id": "c8a2ee82",
   "metadata": {},
   "outputs": [
    {
     "name": "stdout",
     "output_type": "stream",
     "text": [
      "[[1 2 3]\n",
      " [4 5 6]\n",
      " [7 8 9]]\n",
      "[[1 2]\n",
      " [4 5]\n",
      " [7 8]]\n",
      "[3 6 9]\n"
     ]
    }
   ],
   "source": [
    "a = [[1,2,3],[4,5,6],[7,8,9]]\n",
    "a = array(a)\n",
    "print(a)\n",
    "\n",
    "print(a[:,:-1])\n",
    "print(a[:,-1])"
   ]
  },
  {
   "cell_type": "code",
   "execution_count": 22,
   "id": "44c91a36",
   "metadata": {},
   "outputs": [
    {
     "name": "stdout",
     "output_type": "stream",
     "text": [
      "[[1 2 3]\n",
      " [4 5 6]]\n",
      "[7 8 9]\n"
     ]
    }
   ],
   "source": [
    "split = 2\n",
    "\n",
    "train,test = a[:split,:], a[split,:]\n",
    "print(train)\n",
    "print(test)"
   ]
  },
  {
   "cell_type": "code",
   "execution_count": 33,
   "id": "d16a7c38",
   "metadata": {},
   "outputs": [
    {
     "name": "stdout",
     "output_type": "stream",
     "text": [
      "[1 2 3 4 5]\n",
      "(5,)\n",
      "[[1 2 3 4 5]\n",
      " [1 2 3 4 5]]\n",
      "(2, 5)\n",
      "cols: 5\n"
     ]
    }
   ],
   "source": [
    "a = array([1,2,3,4,5])\n",
    "print(a)\n",
    "print(a.shape)\n",
    "a = array([[1,2,3,4,5],[1,2,3,4,5]])\n",
    "print(a)\n",
    "print(a.shape)\n",
    "print(\"cols: %d\" %a.shape[1])"
   ]
  },
  {
   "cell_type": "code",
   "execution_count": 36,
   "id": "91095b0e",
   "metadata": {},
   "outputs": [
    {
     "name": "stdout",
     "output_type": "stream",
     "text": [
      "[1 2 3 4 5 6]\n",
      "(6,)\n",
      "[[1]\n",
      " [2]\n",
      " [3]\n",
      " [4]\n",
      " [5]\n",
      " [6]]\n",
      "[[1 2]\n",
      " [3 4]\n",
      " [5 6]]\n"
     ]
    }
   ],
   "source": [
    "a = array([1,2,3,4,5,6])\n",
    "print(a)\n",
    "print(a.shape)\n",
    "\n",
    "a = a.reshape((a.shape[0],1))\n",
    "print(a)\n",
    "\n",
    "a = a.reshape(3,2)\n",
    "print(a)"
   ]
  },
  {
   "cell_type": "code",
   "execution_count": 46,
   "id": "bc6e5ff8",
   "metadata": {},
   "outputs": [
    {
     "name": "stdout",
     "output_type": "stream",
     "text": [
      "[[ 1  2]\n",
      " [ 3  4]\n",
      " [ 5  6]\n",
      " [ 7  8]\n",
      " [ 9 10]\n",
      " [11 12]]\n",
      "[[ 1  2]\n",
      " [ 3  4]\n",
      " [ 5  6]\n",
      " [ 7  8]\n",
      " [ 9 10]\n",
      " [11 12]]\n",
      "[[ 1  2]\n",
      " [ 3  4]\n",
      " [ 5  6]\n",
      " [ 7  8]\n",
      " [ 9 10]\n",
      " [11 12]]\n"
     ]
    }
   ],
   "source": [
    "data = [[1,2],[3,4],[5,6],[7,8],[9,10],[11,12]]\n",
    "data = array(data)\n",
    "\n",
    "print(data)\n",
    "\n",
    "data.reshape(3, data.shape[1], 2)\n",
    "\n",
    "print(data)\n",
    "\n",
    "data.reshape(6, data.shape[1], 1)\n",
    "\n",
    "print(data)\n",
    "\n",
    "#3 dimensional array could be used for multiple time steps, with an observation with multiple characteristics at each time step\n",
    "# Or multiple samples at multiple time steps, with each sample having some features"
   ]
  },
  {
   "cell_type": "code",
   "execution_count": 5,
   "id": "1da2da7b",
   "metadata": {},
   "outputs": [
    {
     "name": "stdout",
     "output_type": "stream",
     "text": [
      "[2 4 6]\n",
      "[[ 2  4  6]\n",
      " [ 8 10 12]]\n"
     ]
    }
   ],
   "source": [
    "# Adding 1 dimensional array to 1 dimensional array\n",
    "a = array([1,2,3])\n",
    "b = array([1,2,3])\n",
    "c = a+b\n",
    "print(c)\n",
    "\n",
    "#Adding 2 dimensional array to 2 dimensional array\n",
    "a = array([[1,2,3],[4,5,6]])\n",
    "b = array([[1,2,3],[4,5,6]])\n",
    "c = a+b\n",
    "print(c)"
   ]
  },
  {
   "cell_type": "code",
   "execution_count": 6,
   "id": "7ca81261",
   "metadata": {},
   "outputs": [
    {
     "name": "stdout",
     "output_type": "stream",
     "text": [
      "[6 7 8]\n"
     ]
    }
   ],
   "source": [
    "#Broadcasting\n",
    "#Adding 1D array to a scalar\n",
    "a = 5\n",
    "b = array([1,2,3])\n",
    "print(a+b)"
   ]
  },
  {
   "cell_type": "code",
   "execution_count": 7,
   "id": "dfcdf421",
   "metadata": {},
   "outputs": [
    {
     "name": "stdout",
     "output_type": "stream",
     "text": [
      "[[ 6  7  8]\n",
      " [ 9 10 11]]\n"
     ]
    }
   ],
   "source": [
    "#Add 2d array to a scalar\n",
    "a = 5\n",
    "b = array([[1,2,3],[4,5,6]])\n",
    "print(a+b)"
   ]
  },
  {
   "cell_type": "code",
   "execution_count": 8,
   "id": "c5489d06",
   "metadata": {},
   "outputs": [
    {
     "name": "stdout",
     "output_type": "stream",
     "text": [
      "[[2 4 6]\n",
      " [5 7 9]]\n"
     ]
    }
   ],
   "source": [
    "#Add 1d array to a 2d array\n",
    "a = array([1,2,3])\n",
    "b = array([[1,2,3],[4,5,6]])\n",
    "print(a+b)"
   ]
  },
  {
   "cell_type": "code",
   "execution_count": null,
   "id": "1e7dd6c1",
   "metadata": {},
   "outputs": [],
   "source": []
  }
 ],
 "metadata": {
  "kernelspec": {
   "display_name": "Python 3 (ipykernel)",
   "language": "python",
   "name": "python3"
  },
  "language_info": {
   "codemirror_mode": {
    "name": "ipython",
    "version": 3
   },
   "file_extension": ".py",
   "mimetype": "text/x-python",
   "name": "python",
   "nbconvert_exporter": "python",
   "pygments_lexer": "ipython3",
   "version": "3.11.4"
  }
 },
 "nbformat": 4,
 "nbformat_minor": 5
}
