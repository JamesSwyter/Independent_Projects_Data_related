{
 "cells": [
  {
   "cell_type": "code",
   "execution_count": 2,
   "id": "d66825ba",
   "metadata": {},
   "outputs": [
    {
     "name": "stdout",
     "output_type": "stream",
     "text": [
      "[[1 2 3]\n",
      " [4 5 6]\n",
      " [7 8 9]]\n",
      "[[0. 1. 0.]\n",
      " [0. 0. 1.]\n",
      " [1. 0. 0.]]\n",
      "[[1.         0.         0.        ]\n",
      " [0.14285714 1.         0.        ]\n",
      " [0.57142857 0.5        1.        ]]\n",
      "[[ 7.00000000e+00  8.00000000e+00  9.00000000e+00]\n",
      " [ 0.00000000e+00  8.57142857e-01  1.71428571e+00]\n",
      " [ 0.00000000e+00  0.00000000e+00 -1.58603289e-16]]\n",
      "[[1. 2. 3.]\n",
      " [4. 5. 6.]\n",
      " [7. 8. 9.]]\n"
     ]
    }
   ],
   "source": [
    "from numpy import array\n",
    "from scipy.linalg import lu\n",
    "\n",
    "A = array([[1,2,3],[4,5,6],[7,8,9]])\n",
    "\n",
    "#LU decomposition\n",
    "P,L,U = lu(A)\n",
    "\n",
    "print(A)\n",
    "print(P)\n",
    "print(L)\n",
    "print(U)\n",
    "print(P@L@U)"
   ]
  },
  {
   "cell_type": "code",
   "execution_count": 3,
   "id": "67547327",
   "metadata": {},
   "outputs": [
    {
     "name": "stdout",
     "output_type": "stream",
     "text": [
      "[[1 2 3]\n",
      " [4 5 6]\n",
      " [7 8 9]]\n",
      "[[-0.12309149  0.90453403  0.40824829]\n",
      " [-0.49236596  0.30151134 -0.81649658]\n",
      " [-0.86164044 -0.30151134  0.40824829]]\n",
      "[[-8.12403840e+00 -9.60113630e+00 -1.10782342e+01]\n",
      " [ 0.00000000e+00  9.04534034e-01  1.80906807e+00]\n",
      " [ 0.00000000e+00  0.00000000e+00 -1.11164740e-15]]\n",
      "[[1. 2. 3.]\n",
      " [4. 5. 6.]\n",
      " [7. 8. 9.]]\n"
     ]
    }
   ],
   "source": [
    "#QR decomposition\n",
    "\n",
    "from numpy.linalg import qr\n",
    "\n",
    "Q, R = qr(A, 'complete')\n",
    "print(A)\n",
    "print(Q)\n",
    "print(R)\n",
    "print(Q.dot(R))"
   ]
  },
  {
   "cell_type": "code",
   "execution_count": 5,
   "id": "6782a58f",
   "metadata": {},
   "outputs": [
    {
     "name": "stdout",
     "output_type": "stream",
     "text": [
      "[[2 1 1]\n",
      " [1 2 1]\n",
      " [1 1 2]]\n",
      "[[1.41421356 0.         0.        ]\n",
      " [0.70710678 1.22474487 0.        ]\n",
      " [0.70710678 0.40824829 1.15470054]]\n",
      "[[2. 1. 1.]\n",
      " [1. 2. 1.]\n",
      " [1. 1. 2.]]\n"
     ]
    }
   ],
   "source": [
    "#Cholesky decomposition\n",
    "from numpy.linalg import cholesky\n",
    "\n",
    "A = array([[2,1,1],[1,2,1],[1,1,2]])\n",
    "print(A)\n",
    "\n",
    "L = cholesky(A)\n",
    "print(L)\n",
    "\n",
    "print(L.dot(L.T))"
   ]
  },
  {
   "cell_type": "code",
   "execution_count": 9,
   "id": "b2d03fee",
   "metadata": {},
   "outputs": [
    {
     "name": "stdout",
     "output_type": "stream",
     "text": [
      "[[1 2 3]\n",
      " [4 5 6]\n",
      " [7 8 9]]\n",
      "[ 1.61168440e+01 -1.11684397e+00 -3.38433605e-16]\n",
      "[[-0.23197069 -0.78583024  0.40824829]\n",
      " [-0.52532209 -0.08675134 -0.81649658]\n",
      " [-0.8186735   0.61232756  0.40824829]]\n"
     ]
    }
   ],
   "source": [
    "#Eigendecomposition\n",
    "\n",
    "from numpy.linalg import eig\n",
    "\n",
    "A = array([[1,2,3],[4,5,6],[7,8,9]])\n",
    "print(A)\n",
    "\n",
    "values, vectors = eig(A)\n",
    "print(values)\n",
    "print(vectors)"
   ]
  },
  {
   "cell_type": "code",
   "execution_count": 10,
   "id": "ceb176cc",
   "metadata": {},
   "outputs": [
    {
     "name": "stdout",
     "output_type": "stream",
     "text": [
      "[ -3.73863537  -8.46653421 -13.19443305]\n",
      "[ -3.73863537  -8.46653421 -13.19443305]\n"
     ]
    }
   ],
   "source": [
    "#Confirm eigenvectors and values\n",
    "\n",
    "#Retrieve the first eigenvector\n",
    "first = vectors[:,0]\n",
    "\n",
    "#Multiply it through the original matrix A\n",
    "B = A.dot(first)\n",
    "\n",
    "print(B)\n",
    "\n",
    "#Retrieve the first eigenvalue\n",
    "value = values[0]\n",
    "\n",
    "#multiply the first eigenvalue by the first eigenvector, to scale it the same magnitude by which the A matrix scales it\n",
    "print(first*value)\n"
   ]
  },
  {
   "cell_type": "code",
   "execution_count": 14,
   "id": "a89a1d03",
   "metadata": {},
   "outputs": [
    {
     "name": "stdout",
     "output_type": "stream",
     "text": [
      "[[-0.48295226 -0.59340999 -0.70386772]\n",
      " [-0.91788599 -0.24901003  0.41986593]\n",
      " [ 0.40824829 -0.81649658  0.40824829]]\n",
      "[[ 1.61168440e+01  0.00000000e+00  0.00000000e+00]\n",
      " [ 0.00000000e+00 -1.11684397e+00  0.00000000e+00]\n",
      " [ 0.00000000e+00  0.00000000e+00 -3.38433605e-16]]\n",
      "[[1. 2. 3.]\n",
      " [4. 5. 6.]\n",
      " [7. 8. 9.]]\n"
     ]
    }
   ],
   "source": [
    "#Reconstruct matrix with eigenvectors\n",
    "\n",
    "from numpy import diag\n",
    "from numpy.linalg import inv\n",
    "\n",
    "inverse_eigen = inv(vectors)\n",
    "print(inverse_eigen)\n",
    "\n",
    "#create diagonal matrix from eigenvalues\n",
    "diagonal = diag(values)\n",
    "print(diagonal)\n",
    "\n",
    "#Reconstruct the A matrix\n",
    "print(vectors@diagonal@inverse_eigen)"
   ]
  },
  {
   "cell_type": "code",
   "execution_count": 17,
   "id": "157bf2b9",
   "metadata": {},
   "outputs": [
    {
     "name": "stdout",
     "output_type": "stream",
     "text": [
      "[[1 2]\n",
      " [3 4]\n",
      " [5 6]]\n",
      "[[-0.2298477   0.88346102  0.40824829]\n",
      " [-0.52474482  0.24078249 -0.81649658]\n",
      " [-0.81964194 -0.40189603  0.40824829]]\n",
      "[9.52551809 0.51430058]\n",
      "[[-0.61962948 -0.78489445]\n",
      " [-0.78489445  0.61962948]]\n"
     ]
    }
   ],
   "source": [
    "#Singular Value Decomposition\n",
    "\n",
    "from scipy.linalg import svd\n",
    "\n",
    "A = array([[1,2],[3,4],[5,6]])\n",
    "\n",
    "print(A)\n",
    "\n",
    "U, s, V = svd(A)\n",
    "\n",
    "print(U)\n",
    "print(s)\n",
    "print(V)"
   ]
  },
  {
   "cell_type": "code",
   "execution_count": 21,
   "id": "f076cd17",
   "metadata": {},
   "outputs": [
    {
     "name": "stdout",
     "output_type": "stream",
     "text": [
      "[[0. 0.]\n",
      " [0. 0.]\n",
      " [0. 0.]]\n",
      "[[9.52551809 0.        ]\n",
      " [0.         0.51430058]]\n",
      "[[9.52551809 0.        ]\n",
      " [0.         0.51430058]\n",
      " [0.         0.        ]]\n",
      "[[1. 2.]\n",
      " [3. 4.]\n",
      " [5. 6.]]\n"
     ]
    }
   ],
   "source": [
    "from numpy import zeros\n",
    "\n",
    "# Create sigma matrix with the right dimensions\n",
    "Sigma = zeros((A.shape[0], A.shape[1]))\n",
    "print(Sigma)\n",
    "\n",
    "#Put in the singular values along the diagonal (if A was a square matrix, you could use the diag(s) matrix directly)\n",
    "Sigma[:A.shape[1], :A.shape[1]] = diag(s)\n",
    "print(diag(s))\n",
    "print(Sigma)\n",
    "\n",
    "#Reconstruct the original matrix\n",
    "print(U.dot(Sigma.dot(V)))"
   ]
  },
  {
   "cell_type": "code",
   "execution_count": 22,
   "id": "6bbeeff1",
   "metadata": {},
   "outputs": [
    {
     "name": "stdout",
     "output_type": "stream",
     "text": [
      "[[1 2]\n",
      " [3 4]\n",
      " [5 6]]\n",
      "[[-1.33333333 -0.33333333  0.66666667]\n",
      " [ 1.08333333  0.33333333 -0.41666667]]\n"
     ]
    }
   ],
   "source": [
    "#psuedoinverse\n",
    "from numpy.linalg import pinv\n",
    "\n",
    "A = array([[1,2],[3,4],[5,6]])\n",
    "\n",
    "print(A)\n",
    "print(pinv(A))"
   ]
  },
  {
   "cell_type": "code",
   "execution_count": 24,
   "id": "c74f36fe",
   "metadata": {},
   "outputs": [
    {
     "name": "stdout",
     "output_type": "stream",
     "text": [
      "[0.10498117 1.94438824]\n",
      "[[-1.33333333 -0.33333333  0.66666667]\n",
      " [ 1.08333333  0.33333333 -0.41666667]]\n"
     ]
    }
   ],
   "source": [
    "#Creating the pseudoinverse manually\n",
    "U, s, V = svd(A)\n",
    "\n",
    "d = 1 / s\n",
    "print(d)\n",
    "\n",
    "D = zeros(A.shape)\n",
    "D[:A.shape[1], :A.shape[1]] = diag(d)\n",
    "\n",
    "pseudo = V.T.dot(D.T).dot(U.T)\n",
    "print(pseudo)"
   ]
  },
  {
   "cell_type": "code",
   "execution_count": 28,
   "id": "030887b5",
   "metadata": {},
   "outputs": [
    {
     "name": "stdout",
     "output_type": "stream",
     "text": [
      "[[ 1  2  3  4  5  6]\n",
      " [ 7  8  9 11 12 13]\n",
      " [14 15 16 17 18 19]]\n",
      "[[ 1.0749546   1.95622505  2.8374955   4.16336     5.04463045  5.9259009 ]\n",
      " [ 6.91066455  8.05217365  9.19368276 10.80529761 11.94680672 13.08831582]\n",
      " [14.03823803 14.97766824 15.91709846 17.08333797 18.02276819 18.9621984 ]]\n",
      "[[ -9.08621178  -2.89355218]\n",
      " [-25.00013219  -1.70195078]\n",
      " [-40.59688228   1.69570712]]\n",
      "[[ -9.08621178  -2.89355218]\n",
      " [-25.00013219  -1.70195078]\n",
      " [-40.59688228   1.69570712]]\n"
     ]
    }
   ],
   "source": [
    "#Dimensionality Reduction\n",
    "\n",
    "A = array([[1,2,3,4,5,6],[7,8,9,11,12,13],[14,15,16,17,18,19]])\n",
    "print(A)\n",
    "\n",
    "U, s, V = svd(A)\n",
    "\n",
    "Sigma = zeros((A.shape[0], A.shape[1]))\n",
    "Sigma[:A.shape[0], :A.shape[0]] = diag(s)\n",
    "\n",
    "#Select only the first two features\n",
    "n_elements = 2\n",
    "Sigma = Sigma[:, :n_elements]\n",
    "V = V[:n_elements, :]\n",
    "\n",
    "#reconstruct with only two features\n",
    "new = U.dot(Sigma.dot(V))\n",
    "print(new)\n",
    "\n",
    "#two equivalent transforms/summaries/projections of the original matrix\n",
    "print(U.dot(Sigma))\n",
    "print(A.dot(V.T))"
   ]
  },
  {
   "cell_type": "code",
   "execution_count": 29,
   "id": "742a2c4c",
   "metadata": {},
   "outputs": [
    {
     "name": "stdout",
     "output_type": "stream",
     "text": [
      "[[ 9.08621178  2.89355218]\n",
      " [25.00013219  1.70195078]\n",
      " [40.59688228 -1.69570712]]\n"
     ]
    }
   ],
   "source": [
    "#Using Scikit learn to create the transforms\n",
    "from sklearn.decomposition import TruncatedSVD\n",
    "\n",
    "svd = TruncatedSVD(n_components=2)\n",
    "\n",
    "svd.fit(A)\n",
    "\n",
    "result = svd.transform(A)\n",
    "print(result)"
   ]
  },
  {
   "cell_type": "code",
   "execution_count": null,
   "id": "f91d6e71",
   "metadata": {},
   "outputs": [],
   "source": []
  }
 ],
 "metadata": {
  "kernelspec": {
   "display_name": "Python 3 (ipykernel)",
   "language": "python",
   "name": "python3"
  },
  "language_info": {
   "codemirror_mode": {
    "name": "ipython",
    "version": 3
   },
   "file_extension": ".py",
   "mimetype": "text/x-python",
   "name": "python",
   "nbconvert_exporter": "python",
   "pygments_lexer": "ipython3",
   "version": "3.11.4"
  }
 },
 "nbformat": 4,
 "nbformat_minor": 5
}
